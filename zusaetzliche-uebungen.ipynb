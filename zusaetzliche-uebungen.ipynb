{
 "cells": [
  {
   "cell_type": "markdown",
   "id": "675f87fc-6194-42a3-8fd5-2c9d99f9e843",
   "metadata": {},
   "source": [
    "1) Gib alle Zahlen von 1 - 100 aus: Die while-Schleife"
   ]
  },
  {
   "cell_type": "code",
   "id": "6ec2421e-5f7a-42e2-a547-80f1225c3240",
   "metadata": {
    "scrolled": true
   },
   "source": [
    "i = 1\n",
    "while i <= 100:\n",
    "    print(i)\n",
    "    i += 1\n"
   ],
   "outputs": [],
   "execution_count": null
  },
  {
   "cell_type": "markdown",
   "id": "e2024a70-0f1b-4bff-a463-77a04cee930f",
   "metadata": {},
   "source": [
    "2) Ersetze in dieser Schleife alle Zahlen die durch drei teilbar sind durch den String \"Digital\" \n",
    "Beispielausgabe:\n",
    "```\n",
    "1 \n",
    "2\n",
    "Digital\n",
    "4\n",
    "5\n",
    "```"
   ]
  },
  {
   "cell_type": "code",
   "id": "5ed6e5b5-7403-475d-85d2-ce86ea550ea8",
   "metadata": {
    "scrolled": true
   },
   "source": [
    "i = 1\n",
    "while i <= 100:\n",
    "    if i % 3 == 0:\n",
    "        print(\"Digital\")\n",
    "    else:\n",
    "        print(f\"{i}\")\n",
    "    i += 1"
   ],
   "outputs": [],
   "execution_count": null
  },
  {
   "cell_type": "markdown",
   "id": "2a370b07-cb97-45c0-b72b-2b08ac036370",
   "metadata": {},
   "source": [
    "3) Ersetze in einer Schleife, die Zahlen die durch fünf teilbar sind durch \"History\"\n",
    "Beispielausgabe:\n",
    "```\n",
    "1\n",
    "2\n",
    "3\n",
    "4\n",
    "History\n",
    "6\n",
    "7\n",
    "8\n",
    "9\n",
    "History\n",
    "```"
   ]
  },
  {
   "cell_type": "code",
   "id": "2c876b8e-6861-4e6e-bc3f-bf1d7d6018a3",
   "metadata": {
    "scrolled": true
   },
   "source": [
    "for i in range(1, 101):\n",
    "    if i % 5 == 0:\n",
    "        print(\"History\")\n",
    "    else:\n",
    "        print(f\"{i}\")"
   ],
   "outputs": [],
   "execution_count": null
  },
  {
   "cell_type": "markdown",
   "id": "2942b949-3cc1-4d06-b883-e4b261f16d76",
   "metadata": {},
   "source": [
    "4) Kombiniere die Schritte 2 und 3 mit einem Elif, sodass du nicht doppelt ausgibst \n",
    "Beispielausgabe:\n",
    "```\n",
    "1\n",
    "2\n",
    "Digital\n",
    "4\n",
    "History\n",
    "```"
   ]
  },
  {
   "cell_type": "code",
   "id": "fc6fe24f-221f-4098-9f2c-1bfcf8c12c07",
   "metadata": {
    "scrolled": true
   },
   "source": [
    "for i in range(1, 101):\n",
    "    if i % 3 == 0:\n",
    "        print(\"Digital\")\n",
    "    elif i % 5 == 0:\n",
    "        print(\"History\")\n",
    "    else:\n",
    "        print(f\"{i}\")"
   ],
   "outputs": [],
   "execution_count": null
  },
  {
   "cell_type": "markdown",
   "id": "35a29ce2-08dc-4a0d-9247-4966d33e9139",
   "metadata": {},
   "source": [
    "5) Ersetze Zahlen die durch 3 Teilbar sind durch den String \"Digital\", Zahlen die durch 5 teilbar sind durch den String \"History\" und Zahlen, die durch beides teilbar sind durch den String \"Digital History\"\n",
    "Beispielausgabe:\n",
    "```\n",
    "1\n",
    "2\n",
    "Digital\n",
    "4\n",
    "History\n",
    "6\n",
    "....\n",
    "11\n",
    "Digital\n",
    "13\n",
    "14\n",
    "Digital History\n",
    "16\n",
    "```\n",
    "Achtung: Nicht alle Methoden haben wir in der Übung besprochen:\n",
    "1) Ein IF-Statement kann mehrere Bedingungen enthalten: \n",
    "Syntax-Beispiel:\n",
    "```python\n",
    "If(Bedingung1 and Bedingung2):\n",
    "    # Code der ausgefuehrt werden soll\n",
    "```\n",
    "\n",
    "2) Der Operator zum Vergleichen ob etwas \"ohne Rest\" durch 0 teilbar ist heißt Modulo-Operator und wird mit dem %-Zeichen gebildet. Um zu überprüfen ob eine Zahl ohne Rest durch eine andere Zahl durch etwas geteilt werden kann:\n",
    "```python\n",
    "N = 3\n",
    "If(N % 3 ==0):\n",
    "    Code der ausgeführt werden soll\n",
    "```"
   ]
  },
  {
   "cell_type": "code",
   "id": "186ec5f3-51ab-4943-8279-17c6e84ae718",
   "metadata": {
    "scrolled": true
   },
   "source": [
    "for i in range(1, 101):\n",
    "    printstr = \"\"\n",
    "    if i % 3 == 0:\n",
    "        printstr += \"Digital \"\n",
    "    if i % 5 == 0:\n",
    "        printstr += \"History\"\n",
    "    if printstr == \"\":\n",
    "        printstr = f\"{i}\"\n",
    "    print(printstr)"
   ],
   "outputs": [],
   "execution_count": null
  }
 ],
 "metadata": {
  "kernelspec": {
   "display_name": "Python 3 (ipykernel)",
   "language": "python",
   "name": "python3"
  },
  "language_info": {
   "codemirror_mode": {
    "name": "ipython",
    "version": 3
   },
   "file_extension": ".py",
   "mimetype": "text/x-python",
   "name": "python",
   "nbconvert_exporter": "python",
   "pygments_lexer": "ipython3",
   "version": "3.12.7"
  }
 },
 "nbformat": 4,
 "nbformat_minor": 5
}
